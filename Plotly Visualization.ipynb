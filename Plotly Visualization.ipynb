{
 "cells": [
  {
   "cell_type": "code",
   "execution_count": 1,
   "metadata": {
    "collapsed": true
   },
   "outputs": [],
   "source": [
    "import numpy as np\n",
    "import pandas as pd\n",
    "import plotly.plotly as py\n",
    "import plotly.graph_objs as go\n",
    "import plotly.tools as tls"
   ]
  },
  {
   "cell_type": "code",
   "execution_count": 35,
   "metadata": {
    "collapsed": true
   },
   "outputs": [],
   "source": [
    "tls.set_credentials_file(username='qli42' , api_key = 'cIWK7hxrZMlZlG4yeMoe')"
   ]
  },
  {
   "cell_type": "markdown",
   "metadata": {},
   "source": [
    "### Read data and display one row of data\n",
    "\n",
    "The data dates back to 1966 up to 2016."
   ]
  },
  {
   "cell_type": "code",
   "execution_count": 2,
   "metadata": {
    "collapsed": true
   },
   "outputs": [],
   "source": [
    "df = pd.read_csv(\"mass_shooting_events_stanford_msa_release_06142016.csv\")\n",
    "df.dropna(how='all', inplace=True)"
   ]
  },
  {
   "cell_type": "code",
   "execution_count": 107,
   "metadata": {},
   "outputs": [],
   "source": [
    "table = []\n",
    "for i in range(len(df.columns)):\n",
    "    table.append([df.columns[i], df.loc[0,][i]])"
   ]
  },
  {
   "cell_type": "code",
   "execution_count": 82,
   "metadata": {},
   "outputs": [
    {
     "data": {
      "text/html": [
       "<iframe id=\"igraph\" scrolling=\"no\" style=\"border:none;\" seamless=\"seamless\" src=\"https://plot.ly/~qli42/12.embed\" height=\"1520px\" width=\"100%\"></iframe>"
      ],
      "text/plain": [
       "<plotly.tools.PlotlyDisplay object>"
      ]
     },
     "execution_count": 82,
     "metadata": {},
     "output_type": "execute_result"
    }
   ],
   "source": [
    "from plotly.figure_factory import create_table\n",
    "table = create_table(table)\n",
    "py.iplot(table, filename='data-preview')"
   ]
  },
  {
   "cell_type": "markdown",
   "metadata": {},
   "source": [
    "### 1. Interactive US map of mass shoot. Description as hover text. Color represents number of victims"
   ]
  },
  {
   "cell_type": "markdown",
   "metadata": {},
   "source": [
    "We will include description of the mass shoot as hover text. However, the description is pretty long to fit in one line. \n",
    "\n",
    "So we created here a helper function to add 'br' (break) every ten words in the description."
   ]
  },
  {
   "cell_type": "code",
   "execution_count": 6,
   "metadata": {
    "collapsed": true
   },
   "outputs": [],
   "source": [
    "def split_line(text):\n",
    "    word_list = text.split(' ')\n",
    "    n = round(len(word_list)/10)\n",
    "    for i in range(1, n+1):\n",
    "        word_list.insert(i*10, '<br>')\n",
    "    return ' '.join(word_list)"
   ]
  },
  {
   "cell_type": "markdown",
   "metadata": {},
   "source": [
    "Plot the world map"
   ]
  },
  {
   "cell_type": "code",
   "execution_count": 12,
   "metadata": {},
   "outputs": [
    {
     "data": {
      "text/html": [
       "<iframe id=\"igraph\" scrolling=\"no\" style=\"border:none;\" seamless=\"seamless\" src=\"https://plot.ly/~qli42/10.embed\" height=\"525px\" width=\"100%\"></iframe>"
      ],
      "text/plain": [
       "<plotly.tools.PlotlyDisplay object>"
      ]
     },
     "execution_count": 12,
     "metadata": {},
     "output_type": "execute_result"
    }
   ],
   "source": [
    "df['text'] = df['Description'].apply(split_line)\n",
    "\n",
    "scl = [ [0,\"rgb(5, 10, 172)\"],[0.35,\"rgb(40, 60, 190)\"],[0.5,\"rgb(70, 100, 245)\"],\\\n",
    "    [0.6,\"rgb(90, 120, 245)\"],[0.7,\"rgb(106, 137, 247)\"],[1,\"rgb(220, 220, 220)\"] ]\n",
    "\n",
    "data = [ dict(\n",
    "        type = 'scattergeo',\n",
    "        locationmode = 'USA-states',\n",
    "        lon = df['Longitude'],\n",
    "        lat = df['Latitude'],\n",
    "        text = df['text'],\n",
    "        mode = 'markers',\n",
    "        marker = dict(\n",
    "            size = 8,\n",
    "            opacity = 0.8,\n",
    "            reversescale = True,\n",
    "            autocolorscale = False,\n",
    "            symbol = 'square',\n",
    "            line = dict(\n",
    "                width=1,\n",
    "                color='rgba(102, 102, 102)'\n",
    "            ),\n",
    "            colorscale = scl,\n",
    "            cmin = 0,\n",
    "            color = df['Total Number of Victims'],\n",
    "            cmax = df['Total Number of Victims'].max(),\n",
    "            colorbar=dict(\n",
    "                title=\"Number of Victims\"\n",
    "            )\n",
    "        ))]\n",
    "\n",
    "layout = dict(\n",
    "        title = 'Mass Shoots of most Victims <br>(Hover for Description)',\n",
    "        colorbar = True,\n",
    "        geo = dict(\n",
    "            scope='usa',\n",
    "            projection=dict( type='albers usa' ),\n",
    "            showland = True,\n",
    "            landcolor = \"rgb(250, 250, 250)\",\n",
    "            subunitcolor = \"rgb(217, 217, 217)\",\n",
    "            countrycolor = \"rgb(217, 217, 217)\",\n",
    "            countrywidth = 0.5,\n",
    "            subunitwidth = 0.5\n",
    "        ),\n",
    "    )\n",
    "\n",
    "fig = dict( data=data, layout=layout )\n",
    "py.iplot(fig, validate=False, filename='map')\n",
    "#plotly.offline.plot( fig, validate=False, filename='map.html' )"
   ]
  },
  {
   "cell_type": "code",
   "execution_count": null,
   "metadata": {
    "collapsed": true
   },
   "outputs": [],
   "source": []
  },
  {
   "cell_type": "markdown",
   "metadata": {
    "collapsed": true
   },
   "source": [
    "### 2. Interactive radar graph of motives of shooters. Number represents number of mass shoots"
   ]
  },
  {
   "cell_type": "markdown",
   "metadata": {},
   "source": [
    "Display the frequency of different motives behind each mass shoot"
   ]
  },
  {
   "cell_type": "code",
   "execution_count": 8,
   "metadata": {},
   "outputs": [],
   "source": [
    "df = pd.read_csv(\"mass_shooting_events_stanford_msa_release_06142016.csv\")\n",
    "df.dropna(how='all', inplace=True)"
   ]
  },
  {
   "cell_type": "code",
   "execution_count": 15,
   "metadata": {
    "collapsed": true
   },
   "outputs": [],
   "source": [
    "from datetime import datetime"
   ]
  },
  {
   "cell_type": "code",
   "execution_count": 29,
   "metadata": {},
   "outputs": [],
   "source": [
    "def get_year(date):\n",
    "    year = date.split('/')[2]\n",
    "    if len(year) == 4:\n",
    "        return int(year)\n",
    "    elif len(year) == 2:\n",
    "        yr = int(year)\n",
    "        if yr > 18:\n",
    "            return yr + 1900\n",
    "        else:\n",
    "            return yr + 2000\n",
    "   # datetime.strptime('11/12/72', '%m/%d/%y').year"
   ]
  },
  {
   "cell_type": "code",
   "execution_count": 33,
   "metadata": {},
   "outputs": [],
   "source": [
    "df['Year'] = df.Date.apply(get_year)"
   ]
  },
  {
   "cell_type": "code",
   "execution_count": 90,
   "metadata": {},
   "outputs": [
    {
     "data": {
      "text/plain": [
       "mental illness                   4\n",
       "domestic dispute                 3\n",
       "legal dispute                    2\n",
       "multiple motives                 1\n",
       "social dispute                   1\n",
       "harassment                       1\n",
       "political/religious ideals       1\n",
       "terminated/denied/reprimanded    1\n",
       "unknown                          1\n",
       "financial dispute                1\n",
       "Name: Possible Motive - General, dtype: int64"
      ]
     },
     "execution_count": 90,
     "metadata": {},
     "output_type": "execute_result"
    }
   ],
   "source": [
    "df[df.Year ==2013]['Possible Motive - General'].str.lower().value_counts().sort_values(ascending=False)"
   ]
  },
  {
   "cell_type": "code",
   "execution_count": 89,
   "metadata": {},
   "outputs": [
    {
     "data": {
      "text/plain": [
       "social dispute                4\n",
       "mental illness                3\n",
       "multiple motives              2\n",
       "rejection                     1\n",
       "legal dispute                 1\n",
       "political/religious ideals    1\n",
       "unknown                       1\n",
       "Name: Possible Motive - General, dtype: int64"
      ]
     },
     "execution_count": 89,
     "metadata": {},
     "output_type": "execute_result"
    }
   ],
   "source": [
    "df[df.Year ==2014]['Possible Motive - General'].str.lower().value_counts().sort_values(ascending=False)"
   ]
  },
  {
   "cell_type": "code",
   "execution_count": 88,
   "metadata": {},
   "outputs": [
    {
     "data": {
      "text/plain": [
       "unknown                            23\n",
       "domestic dispute                   15\n",
       "social dispute                      7\n",
       "multiple motives                    3\n",
       "drug use                            2\n",
       "rejection                           2\n",
       "political/religious ideals          2\n",
       "drug use/financial difficulties     2\n",
       "race                                2\n",
       "financial difficulties              2\n",
       "financial dispute                   2\n",
       "terminated/denied/reprimanded       1\n",
       "mental illness                      1\n",
       "gender                              1\n",
       "Name: Possible Motive - General, dtype: int64"
      ]
     },
     "execution_count": 88,
     "metadata": {},
     "output_type": "execute_result"
    }
   ],
   "source": [
    "df[df.Year ==2015]['Possible Motive - General'].str.lower().value_counts().sort_values(ascending=False)"
   ]
  },
  {
   "cell_type": "code",
   "execution_count": 87,
   "metadata": {},
   "outputs": [
    {
     "data": {
      "text/plain": [
       "unknown             48\n",
       "social dispute      13\n",
       "domestic dispute     5\n",
       "robbery              1\n",
       "drug use             1\n",
       "multiple motives     1\n",
       "Name: Possible Motive - General, dtype: int64"
      ]
     },
     "execution_count": 87,
     "metadata": {},
     "output_type": "execute_result"
    }
   ],
   "source": [
    "df[df.Year ==2016]['Possible Motive - General'].str.lower().value_counts().sort_values(ascending=False)"
   ]
  },
  {
   "cell_type": "markdown",
   "metadata": {
    "collapsed": true
   },
   "source": [
    "#### Plot the radar plot, where user can select which year to present"
   ]
  },
  {
   "cell_type": "code",
   "execution_count": 106,
   "metadata": {},
   "outputs": [
    {
     "data": {
      "text/html": [
       "<iframe id=\"igraph\" scrolling=\"no\" style=\"border:none;\" seamless=\"seamless\" src=\"https://plot.ly/~qli42/28.embed\" height=\"525px\" width=\"100%\"></iframe>"
      ],
      "text/plain": [
       "<plotly.tools.PlotlyDisplay object>"
      ]
     },
     "execution_count": 106,
     "metadata": {},
     "output_type": "execute_result"
    }
   ],
   "source": [
    "data = [\n",
    "    go.Scatterpolar(\n",
    "        r = [4, 1, 2, 3, 1, 0, 0, 1, 2], #[84, 37, 33, 30, 17, 40, 6, 11, 6],\n",
    "        theta = ['Mental Illness','Multiple Motives', 'Social Dispute/Rejection/Harassment', 'Domestic Dispute', 'Financial Dispute/Difficulties',  'Drug Use', 'Race', 'Political/religious Ideals','Legal Dispute'],\n",
    "        fill = 'toself',\n",
    "        name = 'Year 2013'),\n",
    "    go.Scatterpolar(\n",
    "        r = [3, 2, 5,0, 0, 0, 0, 1, 1],\n",
    "        theta = ['Mental Illness', 'Multiple Motives','Social Dispute/Rejection/Harassment', 'Domestic Dispute','Financial Dispute/Difficulties', 'Drug Use', 'Race', 'Political/religious Ideals','Legal Dispute'],\n",
    "        fill = 'toself',\n",
    "        name = 'Year 2014'),\n",
    "    go.Scatterpolar(\n",
    "        r = [1, 3, 8, 15, 5, 2, 2, 1, 0],\n",
    "        theta = ['Mental Illness', 'Multiple Motives','Social Dispute/Rejection/Harassment','Domestic Dispute', 'Financial Dispute/Difficulties', 'Drug Use', 'Race', 'Political/religious Ideals', 'Legal Dispute'],\n",
    "        fill = 'toself',\n",
    "        name = 'Year 2015'),\n",
    "    go.Scatterpolar(\n",
    "        r = [0, 1, 13, 5, 0, 1, 0, 0, 0],\n",
    "        theta = ['Mental Illness', 'Multiple Motives','Social Dispute/Rejection/Harassment','Domestic Dispute', 'Financial Dispute/Difficulties', 'Drug Use', 'Race', 'Political/religious Ideals','Legal Dispute'],\n",
    "        fill = 'toself',\n",
    "        name = 'Year 2016')\n",
    "       ]\n",
    "\n",
    "sliders = [dict(\n",
    "    active = 4,\n",
    "    currentvalue = {\"prefix\": \"Frequency: \"},\n",
    "    pad = {\"t\": 50},\n",
    "    steps = data\n",
    ")]\n",
    "\n",
    "layout = dict(sliders=sliders)\n",
    "\n",
    "fig = dict(data=data, layout=layout)\n",
    "\n",
    "py.iplot(fig, validate=False, filename='radarplot/multiple')\n",
    "#plotly.offline.plot(fig, filename = \"radar.html\")"
   ]
  },
  {
   "cell_type": "code",
   "execution_count": null,
   "metadata": {
    "collapsed": true
   },
   "outputs": [],
   "source": []
  }
 ],
 "metadata": {
  "kernelspec": {
   "display_name": "Python 3",
   "language": "python",
   "name": "python3"
  },
  "language_info": {
   "codemirror_mode": {
    "name": "ipython",
    "version": 3
   },
   "file_extension": ".py",
   "mimetype": "text/x-python",
   "name": "python",
   "nbconvert_exporter": "python",
   "pygments_lexer": "ipython3",
   "version": "3.6.1"
  }
 },
 "nbformat": 4,
 "nbformat_minor": 2
}
