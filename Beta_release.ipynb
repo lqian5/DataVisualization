{
 "cells": [
  {
   "cell_type": "code",
   "execution_count": 73,
   "metadata": {
    "collapsed": true
   },
   "outputs": [],
   "source": [
    "import numpy as np\n",
    "import pandas as pd\n",
    "import plotly\n",
    "import plotly.graph_objs as go"
   ]
  },
  {
   "cell_type": "markdown",
   "metadata": {},
   "source": [
    "### Read data and display one row of data\n",
    "\n",
    "The data dates back to 1966 up to 2016."
   ]
  },
  {
   "cell_type": "code",
   "execution_count": 63,
   "metadata": {},
   "outputs": [],
   "source": [
    "df = pd.read_csv(\"mass_shooting_events_stanford_msa_release_06142016.csv\")\n",
    "df.dropna(how='all', inplace=True)"
   ]
  },
  {
   "cell_type": "code",
   "execution_count": 9,
   "metadata": {},
   "outputs": [
    {
     "data": {
      "text/plain": [
       "CaseID                                                                                  1\n",
       "Title                                                       University of Texas at Austin\n",
       "Location                                                                    Austin, Texas\n",
       "City                                                                               Austin\n",
       "State                                                                               Texas\n",
       "Latitude                                                                          30.1989\n",
       "Longitude                                                                        -97.8442\n",
       "Number of Victim Fatalities                                                            16\n",
       "Total Number of Fatalities                                                             17\n",
       "Number of Victims Injured                                                              32\n",
       "Total Number of Victims                                                                48\n",
       "Description                             On August 1, 1966, a 25-year-old engineering s...\n",
       "Date                                                                             8/1/1966\n",
       "Day of Week                                                                        Monday\n",
       "Date - Detailed                                                   Monday, August 01, 1966\n",
       "Shooter Name                                                           Charles S. Whitman\n",
       "Shooter Age(s)                                                                         25\n",
       "Average Shooter Age                                                                    25\n",
       "Shooter Sex                                                                          Male\n",
       "Shooter Race                                          White American or European American\n",
       "Type of Gun - Detailed                  Remington 700 ADL (6mm), Universal M1 carbine,...\n",
       "Type of Gun - General                                                       Multiple guns\n",
       "Number of Shotguns                                                                      1\n",
       "Number of Rifles                                                                        3\n",
       "Number of Handguns                                                                      3\n",
       "Total Number of Guns                                                                    7\n",
       "Number of Automatic Guns                                                                0\n",
       "Number of Semi-Automatic Guns                                                           1\n",
       "Fate of Shooter at the scene                                                     Deceased\n",
       "Shooter's Cause of Death                                                           Killed\n",
       "School Related                                                                        Yes\n",
       "Place Type                                             College/University/Adult education\n",
       "Relationship to Incident Location                                      Place of schooling\n",
       "Targeted Victim/s - Detailed                      Family, students, teachers,  and police\n",
       "Targeted Victim/s - General                                                General public\n",
       "Possible Motive - Detailed              A task force of professionals known as the Con...\n",
       "Possible Motive - General                                                  Mental illness\n",
       "History of Mental Illness - Detailed    Shooter had visited  a psychiatrist and severa...\n",
       "History of Mental Illness - General                                                   Yes\n",
       "Data Source 1                                http://en.wikipedia.org/wiki/Charles_Whitman\n",
       "Data Source 2                                Lexington Examiner (KY) - September 23, 2012\n",
       "Data Source 3                           http://news.google.com/newspapers?id=lkk0AAAAI...\n",
       "Data Source 4                           http://news.google.com/newspapers?id=PPUjAAAAI...\n",
       "Data Source 5                           http://books.google.com/books?id=ClYEAAAAMBAJ&...\n",
       "Data Source 6                                                                         NaN\n",
       "Data Source 7                                                                         NaN\n",
       "Military Experience                                                                   Yes\n",
       "Class                                                                                 SPK\n",
       "Name: 0, dtype: object"
      ]
     },
     "execution_count": 9,
     "metadata": {},
     "output_type": "execute_result"
    }
   ],
   "source": [
    "df.iloc[0,]"
   ]
  },
  {
   "cell_type": "markdown",
   "metadata": {},
   "source": [
    "### 1. Interactive US map of mass shoot. Description as hover text. Color represents number of victims"
   ]
  },
  {
   "cell_type": "markdown",
   "metadata": {},
   "source": [
    "We will include description of the mass shoot as hover text. However, the description is pretty long to fit in one line. \n",
    "\n",
    "So we created here a helper function to add 'br' (break) every ten words in the description."
   ]
  },
  {
   "cell_type": "code",
   "execution_count": 64,
   "metadata": {},
   "outputs": [],
   "source": [
    "def split_line(text):\n",
    "    word_list = text.split(' ')\n",
    "    n = round(len(word_list)/10)\n",
    "    for i in range(1, n+1):\n",
    "        word_list.insert(i*10, '<br>')\n",
    "    return ' '.join(word_list)"
   ]
  },
  {
   "cell_type": "markdown",
   "metadata": {},
   "source": [
    "Plot the world map"
   ]
  },
  {
   "cell_type": "code",
   "execution_count": 65,
   "metadata": {},
   "outputs": [
    {
     "data": {
      "text/plain": [
       "'file:///Users/QIAN/Documents/dataVisualization/project_proposal/beta/worldmap.html'"
      ]
     },
     "execution_count": 65,
     "metadata": {},
     "output_type": "execute_result"
    }
   ],
   "source": [
    "df['text'] = df['Description'].apply(split_line)\n",
    "\n",
    "scl = [ [0,\"rgb(5, 10, 172)\"],[0.35,\"rgb(40, 60, 190)\"],[0.5,\"rgb(70, 100, 245)\"],\\\n",
    "    [0.6,\"rgb(90, 120, 245)\"],[0.7,\"rgb(106, 137, 247)\"],[1,\"rgb(220, 220, 220)\"] ]\n",
    "\n",
    "data = [ dict(\n",
    "        type = 'scattergeo',\n",
    "        locationmode = 'USA-states',\n",
    "        lon = df['Longitude'],\n",
    "        lat = df['Latitude'],\n",
    "        text = df['text'],\n",
    "        mode = 'markers',\n",
    "        marker = dict(\n",
    "            size = 8,\n",
    "            opacity = 0.8,\n",
    "            reversescale = True,\n",
    "            autocolorscale = False,\n",
    "            symbol = 'square',\n",
    "            line = dict(\n",
    "                width=1,\n",
    "                color='rgba(102, 102, 102)'\n",
    "            ),\n",
    "            colorscale = scl,\n",
    "            cmin = 0,\n",
    "            color = df['Total Number of Victims'],\n",
    "            cmax = df['Total Number of Victims'].max(),\n",
    "            colorbar=dict(\n",
    "                title=\"Number of Victims\"\n",
    "            )\n",
    "        ))]\n",
    "\n",
    "layout = dict(\n",
    "        title = 'Mass Shoots of most Victims <br>(Hover for Description)',\n",
    "        colorbar = True,\n",
    "        geo = dict(\n",
    "            scope='usa',\n",
    "            projection=dict( type='albers usa' ),\n",
    "            showland = True,\n",
    "            landcolor = \"rgb(250, 250, 250)\",\n",
    "            subunitcolor = \"rgb(217, 217, 217)\",\n",
    "            countrycolor = \"rgb(217, 217, 217)\",\n",
    "            countrywidth = 0.5,\n",
    "            subunitwidth = 0.5\n",
    "        ),\n",
    "    )\n",
    "\n",
    "fig = dict( data=data, layout=layout )\n",
    "plotly.offline.plot( fig, validate=False, filename='worldmap.html' )"
   ]
  },
  {
   "cell_type": "code",
   "execution_count": null,
   "metadata": {
    "collapsed": true
   },
   "outputs": [],
   "source": []
  },
  {
   "cell_type": "markdown",
   "metadata": {
    "collapsed": true
   },
   "source": [
    "### 2. Interactive radar graph of motives of shooters. Number represents number of mass shoots"
   ]
  },
  {
   "cell_type": "markdown",
   "metadata": {},
   "source": [
    "Display the frequency of different motives behind each mass shoot"
   ]
  },
  {
   "cell_type": "code",
   "execution_count": 68,
   "metadata": {},
   "outputs": [
    {
     "data": {
      "text/plain": [
       "unknown                            84\n",
       "social dispute                     37\n",
       "mental illness                     33\n",
       "multiple motives                   32\n",
       "domestic dispute                   30\n",
       "terminated/denied/reprimanded      22\n",
       "political/religious ideals         11\n",
       "financial dispute                  10\n",
       "rejection                           7\n",
       "legal dispute                       6\n",
       "race                                6\n",
       "failure                             6\n",
       "harassment                          5\n",
       "expulsion/suspension                5\n",
       "financial difficulties              5\n",
       "drug use                            3\n",
       "drug use/financial difficulties     2\n",
       "robbery                             1\n",
       "gender                              1\n",
       "Name: Possible Motive - General, dtype: int64"
      ]
     },
     "execution_count": 68,
     "metadata": {},
     "output_type": "execute_result"
    }
   ],
   "source": [
    "df['Possible Motive - General'].str.lower().value_counts().sort_values(ascending=False)"
   ]
  },
  {
   "cell_type": "markdown",
   "metadata": {
    "collapsed": true
   },
   "source": [
    "I'm only going to include motives that are linked to 5+ mass shoots in the radar plot."
   ]
  },
  {
   "cell_type": "code",
   "execution_count": 75,
   "metadata": {},
   "outputs": [
    {
     "data": {
      "text/plain": [
       "'file:///Users/QIAN/Documents/dataVisualization/project_proposal/beta/radar.html'"
      ]
     },
     "execution_count": 75,
     "metadata": {},
     "output_type": "execute_result"
    }
   ],
   "source": [
    "data = [go.Scatterpolar(\n",
    "  r = [84, 37, 33, 30, 17, 40, 6, 11, 6],\n",
    "  theta = ['Unknown', 'Social Dispute','Mental Illness', 'Domestic Dispute', 'Financial Dispute/Difficulties', 'Suspension/Reprimanded/Failure/Rejection', 'Legal Dispute','Political/religious Ideals', 'Drug Use', 'Race'],\n",
    "  fill = 'toself'\n",
    ")]\n",
    "\n",
    "layout = go.Layout(\n",
    "    title='Possible Motives for shooters and number of mass shoots caused',\n",
    "    polar = dict(\n",
    "        radialaxis = dict(\n",
    "          visible = True,\n",
    "          range = [0, 90]\n",
    "        )\n",
    "    ),\n",
    "    showlegend = False\n",
    ")\n",
    "\n",
    "fig = go.Figure(data=data, layout=layout)\n",
    "plotly.offline.plot(fig, filename = \"radar.html\")"
   ]
  },
  {
   "cell_type": "code",
   "execution_count": null,
   "metadata": {
    "collapsed": true
   },
   "outputs": [],
   "source": []
  }
 ],
 "metadata": {
  "kernelspec": {
   "display_name": "Python 3",
   "language": "python",
   "name": "python3"
  },
  "language_info": {
   "codemirror_mode": {
    "name": "ipython",
    "version": 3
   },
   "file_extension": ".py",
   "mimetype": "text/x-python",
   "name": "python",
   "nbconvert_exporter": "python",
   "pygments_lexer": "ipython3",
   "version": "3.6.1"
  }
 },
 "nbformat": 4,
 "nbformat_minor": 2
}
